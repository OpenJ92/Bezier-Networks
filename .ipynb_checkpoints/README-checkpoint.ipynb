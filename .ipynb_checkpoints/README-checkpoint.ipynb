{
 "cells": [
  {
   "cell_type": "markdown",
   "metadata": {},
   "source": [
    "# Bezier Artificial Neural Networks"
   ]
  },
  {
   "cell_type": "markdown",
   "metadata": {},
   "source": [
    "### Bezier Curves"
   ]
  },
  {
   "cell_type": "markdown",
   "metadata": {},
   "source": [
    "#### Construction\n",
    "Users are asked to construct a collection of control points. From these elements, we can resolve the bezier curve in a itterative convolution until we've exausted the column space of all but one element.\n",
    "\n",
    "![](READMEData/bezier_curve.png)"
   ]
  },
  {
   "cell_type": "code",
   "execution_count": 29,
   "metadata": {},
   "outputs": [],
   "source": [
    "import numpy as np\n",
    "from Bezier import bezierCurve\n",
    "from controlPoints import controlPointsUniformRandomEnclosingPrism\n",
    "\n",
    "shape_in, shape_out = np.array([10, 32]), np.array([100, 2])\n",
    "control_points = controlPointsUniformRandomEnclosingPrism(shape_in, shape_out)\n",
    "bezier_curve = bezierCurve(shape_in, shape_out, control_points(10))"
   ]
  },
  {
   "cell_type": "markdown",
   "metadata": {},
   "source": [
    "The code above demonstrates by example how to use the code in Bezier.py and controlPoints.py. \n",
    "\n",
    "Firstly, as we'll do for almost every example in this construction, we will specify the input shape of our samples and the desired output shape. We then can proceed in one of two possible directions. In the example above, we made use of the controlPoints.py module to construct an object which will develop a np.array of control points upon calling said object with the desired number of interior control points (see print statement below.). Otherwise, one can develop a custom set of control points which must be a np.array whose column space are the desired points and whose first column is the input shape and last column is the output shape."
   ]
  },
  {
   "cell_type": "code",
   "execution_count": 32,
   "metadata": {},
   "outputs": [
    {
     "name": "stdout",
     "output_type": "stream",
     "text": [
      "[[ 10.          47.69364088  99.94103248 100.        ]\n",
      " [ 32.           9.44529186  29.85408702   2.        ]]\n"
     ]
    }
   ],
   "source": [
    "print(control_points(2))"
   ]
  },
  {
   "cell_type": "markdown",
   "metadata": {},
   "source": [
    "We then instantiate a bezierCurve object that will evaluate the curve over the interval 0 to 1. Do note that for our purposes, the curve is discretized so as to conform with the conditions of constructing the layers of a Convolutional or Dense Artificial Neural Network. \n",
    "\n",
    "How can we sample the bezier curve so there's a high probability of sampling from regions of large curvature."
   ]
  },
  {
   "cell_type": "code",
   "execution_count": 31,
   "metadata": {},
   "outputs": [
    {
     "data": {
      "text/plain": [
       "<matplotlib.collections.PathCollection at 0x11bf52470>"
      ]
     },
     "execution_count": 31,
     "metadata": {},
     "output_type": "execute_result"
    },
    {
     "data": {
      "image/png": "[encoded data removed]",
      "text/plain": [
       "<Figure size 432x288 with 1 Axes>"
      ]
     },
     "metadata": {
      "needs_background": "light"
     },
     "output_type": "display_data"
    }
   ],
   "source": [
    "import matplotlib.pyplot as plt\n",
    "evl = np.stack([bezier_curve(t).flatten() for t in np.linspace(0, 1, 100)], axis = 0)\n",
    "plt.scatter(evl[:,0], evl[:,1])"
   ]
  },
  {
   "cell_type": "markdown",
   "metadata": {},
   "source": [
    "### Bezier Networks"
   ]
  },
  {
   "cell_type": "markdown",
   "metadata": {},
   "source": [
    "Dense and 2D-Convolutional constructions. Code Demonstration.\n",
    "\n",
    "#### Autoencoder Architecture\n",
    "![](READMEData/ConvolutionalUpsample.png)\n",
    "\n",
    "\n",
    "to construct an Autoencoder Architecture, we'll have to construct two kwargs, one for the encoding ANN and one for the decoding ANN. \n",
    "    \n",
    "```python \n",
    "shape_in, latent_space_shape, shape_out = np.array([10,32,32]), np.array([100,1,1]), np.array([10,16,16])\n",
    "\n",
    "control1 = controlPointsUniformRandomEnclosingPrism(shape_in, latent_space_shape)(2)\n",
    "control2 = np.flip(control1, axis = 1)\n",
    "\n",
    "eC = {'shape_in': shape_in, 'shape_out': latent_space_shape, 'control_points': control1, 'bezier_samples': 10, 'layers': 1}\n",
    "dC = {'shape_in': latent_space_shape, 'shape_out': shape_out, 'control_points': control2, 'bezier_samples': 10, 'layers': 1}\n",
    "\n",
    "encoder = conv2dbezierNetwork(**eC)\n",
    "decoder = conv2dbezierNetwork(**dC)\n",
    "```\n",
    "\n",
    "from this position, we can easily introduce these elements to a nn.Sequential().\n",
    "\n",
    "#### Tetrahedral Architecture\n",
    "![](READMEData/tertaNN864.png)\n",
    "\n",
    "To construct a Tetrahedral Architecture, we'll have to construct a single kwargs.\n",
    "\n",
    "```python \n",
    "shape_in, shape_out = np.array([10,64,8]), np.array([10,8,64])\n",
    "control1 = controlPointsUniformRandomEnclosingPrism(shape_in, shape_out)(2)\n",
    "kwargs = {'shape_in': shape_in, 'shape_out': latent_space_shape, 'control_points': control1, 'bezier_samples': 10, 'layers': 1}\n",
    "\n",
    "tetra = conv2dbezierNetwork(**kwargs)\n",
    "```\n",
    "\n",
    "Both of these examples can be called with the appropriate sized tensor construct. My hope is to use these bezier networks to optimize over possible architectures which are modeled by position and number of control points of the bezier curve. "
   ]
  },
  {
   "cell_type": "markdown",
   "metadata": {},
   "source": [
    "### Bezier Variational Autoencoder Example\n",
    "\n",
    "Suppose we have the following constructed code."
   ]
  }
 ],
 "metadata": {
  "kernelspec": {
   "display_name": "Python 3",
   "language": "python",
   "name": "python3"
  },
  "language_info": {
   "codemirror_mode": {
    "name": "ipython",
    "version": 3
   },
   "file_extension": ".py",
   "mimetype": "text/x-python",
   "name": "python",
   "nbconvert_exporter": "python",
   "pygments_lexer": "ipython3",
   "version": "3.6.5"
  }
 },
 "nbformat": 4,
 "nbformat_minor": 2
}
